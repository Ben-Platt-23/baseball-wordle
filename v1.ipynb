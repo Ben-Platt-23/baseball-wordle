{
 "cells": [
  {
   "cell_type": "code",
   "execution_count": 18,
   "metadata": {},
   "outputs": [],
   "source": [
    "import pandas as pd \n",
    "import requests as re\n",
    "from bs4 import BeautifulSoup as soup"
   ]
  },
  {
   "cell_type": "markdown",
   "metadata": {},
   "source": [
    "1. Drop the team name column from the file \n",
    "2. Use the ootp browser ui thing or from fangraphs or baseball reference get each teams active roster \n",
    "3. Figure out the best way to make a new columns in the dataframe so we can add in division and league columns\n",
    "4. Create a function that goes through each player in the dataframe and checks to see which roster they are on \n",
    "5. based on which roster they are on, assign an abbrieviated league and division tag to the columns and row associated with the current player \n",
    "6. continue with the rest of the project "
   ]
  },
  {
   "cell_type": "code",
   "execution_count": 90,
   "metadata": {},
   "outputs": [],
   "source": [
    "# Create a pandas dataframe called 'data' using the read csv function to convert the csv into a df\n",
    "\n",
    "data = pd.read_csv('player_list.csv')"
   ]
  },
  {
   "cell_type": "code",
   "execution_count": 91,
   "metadata": {},
   "outputs": [
    {
     "data": {
      "text/plain": [
       "Index(['ID', 'POS', 'Name', 'TM', 'Age', 'NAT', 'B', 'T'], dtype='object')"
      ]
     },
     "execution_count": 91,
     "metadata": {},
     "output_type": "execute_result"
    }
   ],
   "source": [
    "# Return the column names\n",
    "\n",
    "data.columns"
   ]
  },
  {
   "cell_type": "code",
   "execution_count": 92,
   "metadata": {},
   "outputs": [
    {
     "data": {
      "text/html": [
       "<div>\n",
       "<style scoped>\n",
       "    .dataframe tbody tr th:only-of-type {\n",
       "        vertical-align: middle;\n",
       "    }\n",
       "\n",
       "    .dataframe tbody tr th {\n",
       "        vertical-align: top;\n",
       "    }\n",
       "\n",
       "    .dataframe thead th {\n",
       "        text-align: right;\n",
       "    }\n",
       "</style>\n",
       "<table border=\"1\" class=\"dataframe\">\n",
       "  <thead>\n",
       "    <tr style=\"text-align: right;\">\n",
       "      <th></th>\n",
       "      <th>ID</th>\n",
       "      <th>POS</th>\n",
       "      <th>Name</th>\n",
       "      <th>TM</th>\n",
       "      <th>Age</th>\n",
       "      <th>NAT</th>\n",
       "      <th>B</th>\n",
       "      <th>T</th>\n",
       "    </tr>\n",
       "  </thead>\n",
       "  <tbody>\n",
       "    <tr>\n",
       "      <th>0</th>\n",
       "      <td>32906</td>\n",
       "      <td>SP</td>\n",
       "      <td>Sandy Alcantara</td>\n",
       "      <td>Miami</td>\n",
       "      <td>25.0</td>\n",
       "      <td>DOM</td>\n",
       "      <td>Right</td>\n",
       "      <td>Right</td>\n",
       "    </tr>\n",
       "    <tr>\n",
       "      <th>1</th>\n",
       "      <td>32688</td>\n",
       "      <td>SP</td>\n",
       "      <td>Tyler Alexander</td>\n",
       "      <td>Detroit</td>\n",
       "      <td>26.0</td>\n",
       "      <td>USA</td>\n",
       "      <td>Right</td>\n",
       "      <td>Left</td>\n",
       "    </tr>\n",
       "    <tr>\n",
       "      <th>2</th>\n",
       "      <td>33887</td>\n",
       "      <td>SP</td>\n",
       "      <td>Adbert Alzolay</td>\n",
       "      <td>Chicago</td>\n",
       "      <td>26.0</td>\n",
       "      <td>VEN</td>\n",
       "      <td>Right</td>\n",
       "      <td>Right</td>\n",
       "    </tr>\n",
       "    <tr>\n",
       "      <th>3</th>\n",
       "      <td>21368</td>\n",
       "      <td>SP</td>\n",
       "      <td>Brett Anderson</td>\n",
       "      <td>Milwaukee</td>\n",
       "      <td>33.0</td>\n",
       "      <td>USA</td>\n",
       "      <td>Left</td>\n",
       "      <td>Left</td>\n",
       "    </tr>\n",
       "    <tr>\n",
       "      <th>4</th>\n",
       "      <td>25637</td>\n",
       "      <td>SP</td>\n",
       "      <td>Ian Anderson</td>\n",
       "      <td>Atlanta</td>\n",
       "      <td>22.0</td>\n",
       "      <td>USA</td>\n",
       "      <td>Right</td>\n",
       "      <td>Right</td>\n",
       "    </tr>\n",
       "  </tbody>\n",
       "</table>\n",
       "</div>"
      ],
      "text/plain": [
       "      ID POS             Name         TM   Age  NAT      B      T\n",
       "0  32906  SP  Sandy Alcantara      Miami  25.0  DOM  Right  Right\n",
       "1  32688  SP  Tyler Alexander    Detroit  26.0  USA  Right   Left\n",
       "2  33887  SP   Adbert Alzolay    Chicago  26.0  VEN  Right  Right\n",
       "3  21368  SP   Brett Anderson  Milwaukee  33.0  USA   Left   Left\n",
       "4  25637  SP     Ian Anderson    Atlanta  22.0  USA  Right  Right"
      ]
     },
     "execution_count": 92,
     "metadata": {},
     "output_type": "execute_result"
    }
   ],
   "source": [
    "# print out 5 rows of the dataframt to check that everything looks good\n",
    "\n",
    "data.head(5)"
   ]
  },
  {
   "cell_type": "code",
   "execution_count": null,
   "metadata": {},
   "outputs": [],
   "source": [
    "\n",
    "\n",
    "for data.team in data:\n",
    "    if data.team == 'Yan'"
   ]
  }
 ],
 "metadata": {
  "interpreter": {
   "hash": "b0fa6594d8f4cbf19f97940f81e996739fb7646882a419484c72d19e05852a7e"
  },
  "kernelspec": {
   "display_name": "Python 3.9.10 64-bit",
   "language": "python",
   "name": "python3"
  },
  "language_info": {
   "codemirror_mode": {
    "name": "ipython",
    "version": 3
   },
   "file_extension": ".py",
   "mimetype": "text/x-python",
   "name": "python",
   "nbconvert_exporter": "python",
   "pygments_lexer": "ipython3",
   "version": "3.9.10"
  },
  "orig_nbformat": 4
 },
 "nbformat": 4,
 "nbformat_minor": 2
}
