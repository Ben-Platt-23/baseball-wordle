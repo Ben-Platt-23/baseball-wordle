{
 "cells": [
  {
   "cell_type": "code",
   "execution_count": 2,
   "metadata": {},
   "outputs": [],
   "source": [
    "import pandas as pd \n",
    "import requests as re\n",
    "from bs4 import BeautifulSoup as soup"
   ]
  },
  {
   "cell_type": "code",
   "execution_count": 86,
   "metadata": {},
   "outputs": [],
   "source": [
    "player_list_test = open('Player List_files/player_list.csv')"
   ]
  },
  {
   "cell_type": "code",
   "execution_count": 87,
   "metadata": {},
   "outputs": [
    {
     "name": "stdout",
     "output_type": "stream",
     "text": [
      "<_io.TextIOWrapper name='Player List_files/player_list.csv' mode='r' encoding='UTF-8'>\n"
     ]
    }
   ],
   "source": [
    "print(player_list_test)"
   ]
  },
  {
   "cell_type": "markdown",
   "metadata": {},
   "source": [
    "1. Drop the team name column from the file \n",
    "2. Use the ootp browser ui thing or from fangraphs or baseball reference get each teams active roster \n",
    "3. Figure out the best way to make a new columns in the dataframe so we can add in division and league columns\n",
    "4. Create a function that goes through each player in the dataframe and checks to see which roster they are on \n",
    "5. based on which roster they are on, assign an abbrieviated league and division tag to the columns and row associated with the current player \n",
    "6. continue with the rest of the project "
   ]
  },
  {
   "cell_type": "code",
   "execution_count": 46,
   "metadata": {},
   "outputs": [],
   "source": [
    "# Create a pandas dataframe called 'data' using the read csv function to convert the csv into a df\n",
    "\n",
    "player_list = pd.read_csv('Player List_files/player_list.csv')"
   ]
  },
  {
   "cell_type": "code",
   "execution_count": 48,
   "metadata": {},
   "outputs": [],
   "source": [
    "player_list = player_list.rename(columns={'Player List':'ID', 'Unnamed: 1':'POS', 'Unnamed: 2':'Name', 'Unnamed: 3':'Team','Unnamed: 4':'Level', 'Unnamed: 5':'Age', 'Unnamed: 6':'Nationality', 'Unnamed: 7':'Bats', 'Unnamed: 8':'Throws'})"
   ]
  },
  {
   "cell_type": "code",
   "execution_count": 50,
   "metadata": {},
   "outputs": [],
   "source": [
    "player_list = player_list.drop(labels=0, axis=0)"
   ]
  },
  {
   "cell_type": "code",
   "execution_count": 51,
   "metadata": {},
   "outputs": [
    {
     "data": {
      "text/html": [
       "<div>\n",
       "<style scoped>\n",
       "    .dataframe tbody tr th:only-of-type {\n",
       "        vertical-align: middle;\n",
       "    }\n",
       "\n",
       "    .dataframe tbody tr th {\n",
       "        vertical-align: top;\n",
       "    }\n",
       "\n",
       "    .dataframe thead th {\n",
       "        text-align: right;\n",
       "    }\n",
       "</style>\n",
       "<table border=\"1\" class=\"dataframe\">\n",
       "  <thead>\n",
       "    <tr style=\"text-align: right;\">\n",
       "      <th></th>\n",
       "      <th>ID</th>\n",
       "      <th>POS</th>\n",
       "      <th>Name</th>\n",
       "      <th>Team</th>\n",
       "      <th>Level</th>\n",
       "      <th>Age</th>\n",
       "      <th>Nationality</th>\n",
       "      <th>Bats</th>\n",
       "      <th>Throws</th>\n",
       "    </tr>\n",
       "  </thead>\n",
       "  <tbody>\n",
       "    <tr>\n",
       "      <th>1</th>\n",
       "      <td>205</td>\n",
       "      <td>CF</td>\n",
       "      <td>Ronald Acuna Jr.</td>\n",
       "      <td>Atlanta</td>\n",
       "      <td>Major League</td>\n",
       "      <td>23</td>\n",
       "      <td>VEN</td>\n",
       "      <td>Right</td>\n",
       "      <td>Right</td>\n",
       "    </tr>\n",
       "    <tr>\n",
       "      <th>2</th>\n",
       "      <td>32810</td>\n",
       "      <td>2B</td>\n",
       "      <td>Ozzie Albies</td>\n",
       "      <td>Atlanta</td>\n",
       "      <td>Major League</td>\n",
       "      <td>24</td>\n",
       "      <td>CUR</td>\n",
       "      <td>Switch</td>\n",
       "      <td>Right</td>\n",
       "    </tr>\n",
       "  </tbody>\n",
       "</table>\n",
       "</div>"
      ],
      "text/plain": [
       "      ID POS              Name     Team         Level Age Nationality    Bats  \\\n",
       "1    205  CF  Ronald Acuna Jr.  Atlanta  Major League  23         VEN   Right   \n",
       "2  32810  2B      Ozzie Albies  Atlanta  Major League  24         CUR  Switch   \n",
       "\n",
       "  Throws  \n",
       "1  Right  \n",
       "2  Right  "
      ]
     },
     "execution_count": 51,
     "metadata": {},
     "output_type": "execute_result"
    }
   ],
   "source": [
    "player_list.head(2)"
   ]
  },
  {
   "cell_type": "code",
   "execution_count": 55,
   "metadata": {},
   "outputs": [],
   "source": [
    "player_list = player_list.drop(columns=['Level'])"
   ]
  },
  {
   "cell_type": "code",
   "execution_count": 128,
   "metadata": {},
   "outputs": [],
   "source": [
    "#player_list.loc[1,['Team']] = ['Braves']"
   ]
  },
  {
   "cell_type": "code",
   "execution_count": 129,
   "metadata": {},
   "outputs": [],
   "source": [
    "player_list_dict = dict(zip(player_list.ID, player_list.Name))"
   ]
  },
  {
   "cell_type": "code",
   "execution_count": 134,
   "metadata": {},
   "outputs": [
    {
     "data": {
      "text/plain": [
       "'Ronald Acuna Jr.'"
      ]
     },
     "execution_count": 134,
     "metadata": {},
     "output_type": "execute_result"
    }
   ],
   "source": []
  },
  {
   "cell_type": "code",
   "execution_count": null,
   "metadata": {},
   "outputs": [],
   "source": []
  }
 ],
 "metadata": {
  "interpreter": {
   "hash": "b0fa6594d8f4cbf19f97940f81e996739fb7646882a419484c72d19e05852a7e"
  },
  "kernelspec": {
   "display_name": "Python 3.9.10 64-bit",
   "language": "python",
   "name": "python3"
  },
  "language_info": {
   "codemirror_mode": {
    "name": "ipython",
    "version": 3
   },
   "file_extension": ".py",
   "mimetype": "text/x-python",
   "name": "python",
   "nbconvert_exporter": "python",
   "pygments_lexer": "ipython3",
   "version": "3.9.10"
  },
  "orig_nbformat": 4
 },
 "nbformat": 4,
 "nbformat_minor": 2
}
